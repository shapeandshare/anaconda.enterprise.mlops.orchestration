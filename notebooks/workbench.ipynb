{
 "cells": [
  {
   "cell_type": "code",
   "execution_count": null,
   "metadata": {},
   "outputs": [],
   "source": [
    "from src.anaconda.enterprise.server.sdk.contract.dto.options import ClientOptions\n",
    "\n",
    "options_dict: dict = {\n",
    "    \"hostname\": \"\",\n",
    "    \"username\": \"\",\n",
    "    \"password\": \"\",\n",
    "}\n",
    "\n",
    "options: ClientOptions = ClientOptions.parse_obj(options_dict)"
   ]
  },
  {
   "cell_type": "code",
   "execution_count": null,
   "metadata": {},
   "outputs": [],
   "source": [
    "from src.anaconda.enterprise.server.sdk.session.factory import AESessionFactory\n",
    "from src.anaconda.enterprise.server.sdk.client import AEClient\n",
    "\n",
    "session_factory: AESessionFactory = AESessionFactory(options=options)"
   ]
  },
  {
   "cell_type": "code",
   "execution_count": null,
   "metadata": {},
   "outputs": [],
   "source": [
    "client: AEClient = AEClient(session_factory=session_factory)"
   ]
  },
  {
   "cell_type": "code",
   "execution_count": null,
   "metadata": {},
   "outputs": [],
   "source": [
    "projects_list = client.projects_get()"
   ]
  },
  {
   "cell_type": "code",
   "execution_count": null,
   "metadata": {},
   "outputs": [],
   "source": [
    "projects_list"
   ]
  },
  {
   "cell_type": "code",
   "execution_count": null,
   "metadata": {},
   "outputs": [],
   "source": [
    "result = client.project_delete(project_id=\"\")"
   ]
  }
 ],
 "metadata": {
  "kernelspec": {
   "display_name": "Python 3",
   "language": "python",
   "name": "python3"
  },
  "language_info": {
   "codemirror_mode": {
    "name": "ipython",
    "version": 2
   },
   "file_extension": ".py",
   "mimetype": "text/x-python",
   "name": "python",
   "nbconvert_exporter": "python",
   "pygments_lexer": "ipython2",
   "version": "2.7.6"
  }
 },
 "nbformat": 4,
 "nbformat_minor": 0
}
