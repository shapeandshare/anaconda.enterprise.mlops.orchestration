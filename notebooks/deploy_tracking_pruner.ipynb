{
 "cells": [
  {
   "cell_type": "code",
   "execution_count": null,
   "metadata": {},
   "outputs": [],
   "source": [
    "from anaconda.enterprise.server.sdk.contract.dto.client_options import ClientOptions\n",
    "\n",
    "options_dict: dict = {\n",
    "    \"hostname\": \"\",\n",
    "    \"username\": \"\",\n",
    "    \"password\": \"\",\n",
    "}\n",
    "\n",
    "options: ClientOptions = ClientOptions.parse_obj(options_dict)"
   ]
  },
  {
   "cell_type": "code",
   "execution_count": null,
   "metadata": {},
   "outputs": [],
   "source": [
    "from anaconda.enterprise.server.sdk.session.factory import AESessionFactory\n",
    "from anaconda.enterprise.server.sdk.client import AEClient\n",
    "\n",
    "session_factory: AESessionFactory = AESessionFactory(options=options)"
   ]
  },
  {
   "cell_type": "code",
   "execution_count": null,
   "metadata": {},
   "outputs": [],
   "source": [
    "client: AEClient = AEClient(session_factory=session_factory)"
   ]
  },
  {
   "cell_type": "code",
   "execution_count": null,
   "metadata": {},
   "outputs": [],
   "source": [
    "from anaconda.enterprise.server.contracts import ProjectUploadResponse\n",
    "\n",
    "upload_response: ProjectUploadResponse = client.project_upload(\n",
    "    project_archive_path=\"../assets/mlflow.tracking.pruner.0.6.0.tar.gz\",\n",
    "    name=\"dev.mlflow.tracking.server.pruner\",\n",
    ")"
   ]
  },
  {
   "cell_type": "code",
   "execution_count": null,
   "metadata": {},
   "outputs": [],
   "source": [
    "upload_response"
   ]
  },
  {
   "cell_type": "code",
   "execution_count": null,
   "metadata": {},
   "outputs": [],
   "source": [
    "upload_response.id"
   ]
  },
  {
   "cell_type": "code",
   "execution_count": null,
   "metadata": {},
   "outputs": [],
   "source": [
    "project_revisions = client.project_revisions_get(project_id=upload_response.id)"
   ]
  },
  {
   "cell_type": "code",
   "execution_count": null,
   "metadata": {},
   "outputs": [],
   "source": [
    "project_revisions"
   ]
  },
  {
   "cell_type": "code",
   "execution_count": null,
   "metadata": {},
   "outputs": [],
   "source": [
    "secret_names: list[str] = [\"MLFLOW_TRACKING_ENTITY_TTL\"]\n",
    "for name in secret_names:\n",
    "    try:\n",
    "        client.secret_delete(key=name)\n",
    "    except:\n",
    "        pass\n",
    "\n",
    "client.secret_put(key=\"MLFLOW_TRACKING_ENTITY_TTL\", value=\"3\")"
   ]
  },
  {
   "cell_type": "code",
   "execution_count": null,
   "metadata": {},
   "outputs": [],
   "source": [
    "!ae5 job create --command \"Prune\" --schedule \"0 0 * * *\" --name \"scheduled dev.mlflow.tracking.server pruner\" \"dev.mlflow.tracking.server.pruner\"\n",
    "# omit if defined as ae5 secret:\n",
    "# --variable MLFLOW_TRACKING_ENTITY_TTL=10"
   ]
  },
  {
   "cell_type": "code",
   "execution_count": null,
   "metadata": {},
   "outputs": [],
   "source": []
  }
 ],
 "metadata": {
  "kernelspec": {
   "display_name": "Python 3",
   "language": "python",
   "name": "python3"
  },
  "language_info": {
   "codemirror_mode": {
    "name": "ipython",
    "version": 2
   },
   "file_extension": ".py",
   "mimetype": "text/x-python",
   "name": "python",
   "nbconvert_exporter": "python",
   "pygments_lexer": "ipython2",
   "version": "2.7.6"
  }
 },
 "nbformat": 4,
 "nbformat_minor": 0
}
