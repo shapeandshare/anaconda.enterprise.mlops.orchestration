{
 "cells": [
  {
   "cell_type": "code",
   "execution_count": null,
   "metadata": {},
   "outputs": [],
   "source": [
    "from anaconda.enterprise.server.common.sdk import load_ae5_user_secrets\n",
    "\n",
    "# load defined environmental variables\n",
    "load_ae5_user_secrets()"
   ]
  },
  {
   "cell_type": "code",
   "execution_count": null,
   "metadata": {},
   "outputs": [],
   "source": [
    "from datetime import datetime\n",
    "from datetime import timedelta\n",
    "import pandas as pd\n",
    "\n",
    "\n",
    "def generate_model_input() -> pd.DataFrame:\n",
    "    start_time: datetime = datetime.utcnow()\n",
    "    end_time: datetime = start_time + timedelta(minutes=30)\n",
    "\n",
    "    data: dict = {\n",
    "        \"tpep_pickup_datetime\": [start_time],\n",
    "        \"tpep_dropoff_datetime\": [end_time],\n",
    "        \"trip_distance\": [6.0],\n",
    "        \"pickup_zip\": [98115],\n",
    "        \"dropoff_zip\": [98115],\n",
    "    }\n",
    "    input_df: pd.DataFrame = pd.DataFrame.from_dict(data=data)\n",
    "    input_df[\"pickup_zip\"] = input_df[\"pickup_zip\"].astype(dtype=\"int32\")\n",
    "    input_df[\"dropoff_zip\"] = input_df[\"pickup_zip\"].astype(dtype=\"int32\")\n",
    "\n",
    "    return input_df"
   ]
  },
  {
   "cell_type": "code",
   "execution_count": null,
   "metadata": {},
   "outputs": [],
   "source": [
    "# get input data\n",
    "input_df: pd.DataFrame = generate_model_input()"
   ]
  },
  {
   "cell_type": "code",
   "execution_count": null,
   "metadata": {},
   "outputs": [],
   "source": [
    "# from src.anaconda.mlflow.tracking.utils import load_model\n",
    "# from mlflow.pyfunc import PyFuncModel\n",
    "\n",
    "# Load a model\n",
    "model_name: str = \"taxi_fare_regressor\"\n",
    "model_version: int = 256\n",
    "model: PyFuncModel = load_model(model_name=model_name, model_version=model_version)"
   ]
  },
  {
   "cell_type": "code",
   "execution_count": null,
   "metadata": {},
   "outputs": [],
   "source": [
    "# Get predictions\n",
    "predictions = model.predict(data=input_df)"
   ]
  },
  {
   "cell_type": "code",
   "execution_count": null,
   "metadata": {},
   "outputs": [],
   "source": [
    "predictions"
   ]
  },
  {
   "cell_type": "markdown",
   "metadata": {
    "collapsed": false
   },
   "source": []
  },
  {
   "cell_type": "code",
   "execution_count": null,
   "metadata": {},
   "outputs": [],
   "source": [
    "from mlflow.pyfunc import PyFuncModel\n",
    "from src.anaconda.mlflow.tracking.utils import load_model_by_run\n",
    "\n",
    "logged_model: str = \"runs:/47677d9d26554c1d8c9e4d975062d232/train/model\"\n",
    "model: PyFuncModel = load_model_by_run(logged_model=logged_model)"
   ]
  },
  {
   "cell_type": "code",
   "execution_count": null,
   "metadata": {},
   "outputs": [],
   "source": [
    "# Get predictions\n",
    "predictions = model.predict(data=input_df)"
   ]
  },
  {
   "cell_type": "code",
   "execution_count": null,
   "metadata": {},
   "outputs": [],
   "source": [
    "predictions"
   ]
  },
  {
   "cell_type": "code",
   "execution_count": null,
   "metadata": {},
   "outputs": [],
   "source": []
  }
 ],
 "metadata": {
  "kernelspec": {
   "display_name": "Python 3",
   "language": "python",
   "name": "python3"
  },
  "language_info": {
   "codemirror_mode": {
    "name": "ipython",
    "version": 2
   },
   "file_extension": ".py",
   "mimetype": "text/x-python",
   "name": "python",
   "nbconvert_exporter": "python",
   "pygments_lexer": "ipython2",
   "version": "2.7.6"
  }
 },
 "nbformat": 4,
 "nbformat_minor": 0
}
