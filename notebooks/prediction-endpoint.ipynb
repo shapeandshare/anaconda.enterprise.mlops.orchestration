{
 "cells": [
  {
   "cell_type": "code",
   "execution_count": null,
   "metadata": {},
   "outputs": [],
   "source": [
    "from dotenv import load_dotenv\n",
    "from anaconda.enterprise.server.common.sdk import load_ae5_user_secrets\n",
    "\n",
    "# load defined environmental variables\n",
    "load_ae5_user_secrets()\n",
    "load_dotenv(dotenv_path=\"../env/env.dev\")"
   ]
  },
  {
   "cell_type": "code",
   "execution_count": null,
   "metadata": {},
   "outputs": [],
   "source": [
    "## Endpoint url and credentials.\n",
    "access_token: str = \"ACCESS-TOKEN\"\n",
    "headers: dict = {\"Content-Type\": \"application/json\", \"Authorization\": f\"Bearer {access_token}\"}\n",
    "\n",
    "url: str = \"https://dev-model-endpoint.xyz.anaconda.com\""
   ]
  },
  {
   "cell_type": "code",
   "execution_count": null,
   "metadata": {},
   "outputs": [],
   "source": [
    "from datetime import datetime\n",
    "from datetime import timedelta\n",
    "import pandas as pd\n",
    "\n",
    "\n",
    "def generate_model_input() -> dict:\n",
    "    start_time: datetime = datetime.utcnow()\n",
    "    end_time: datetime = start_time + timedelta(minutes=30)\n",
    "\n",
    "    data: dict = {\n",
    "        \"tpep_pickup_datetime\": [str(start_time)],\n",
    "        \"tpep_dropoff_datetime\": [str(end_time)],\n",
    "        \"trip_distance\": [6.0],\n",
    "        \"pickup_zip\": [98115],\n",
    "        \"dropoff_zip\": [98115],\n",
    "    }\n",
    "    input_df: pd.DataFrame = pd.DataFrame.from_dict(data=data)\n",
    "    input_df[\"pickup_zip\"] = input_df[\"pickup_zip\"].astype(dtype=\"int32\")\n",
    "    input_df[\"dropoff_zip\"] = input_df[\"pickup_zip\"].astype(dtype=\"int32\")\n",
    "\n",
    "    return {\"dataframe_split\": input_df.to_dict(orient=\"split\")}"
   ]
  },
  {
   "cell_type": "code",
   "execution_count": null,
   "metadata": {},
   "outputs": [],
   "source": [
    "import requests\n",
    "from requests import Response\n",
    "\n",
    "# invocations\n",
    "\n",
    "data: dict = generate_model_input()\n",
    "\n",
    "response: Response = requests.post(f\"{url}/invocations\", headers=headers, json=data)"
   ]
  },
  {
   "cell_type": "code",
   "execution_count": null,
   "metadata": {},
   "outputs": [],
   "source": [
    "response.status_code"
   ]
  },
  {
   "cell_type": "code",
   "execution_count": null,
   "metadata": {},
   "outputs": [],
   "source": [
    "response.json()"
   ]
  }
 ],
 "metadata": {
  "kernelspec": {
   "display_name": "Python 3",
   "language": "python",
   "name": "python3"
  },
  "language_info": {
   "codemirror_mode": {
    "name": "ipython",
    "version": 2
   },
   "file_extension": ".py",
   "mimetype": "text/x-python",
   "name": "python",
   "nbconvert_exporter": "python",
   "pygments_lexer": "ipython2",
   "version": "2.7.6"
  }
 },
 "nbformat": 4,
 "nbformat_minor": 0
}
