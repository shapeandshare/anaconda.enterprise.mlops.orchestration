{
 "cells": [
  {
   "cell_type": "markdown",
   "metadata": {},
   "source": [
    "# MLFlow Tracking Server Pruning Service"
   ]
  },
  {
   "cell_type": "markdown",
   "metadata": {},
   "source": [
    "Before performing an installation you should familiarize yourself with below topics:\n",
    "\n",
    "* [Pruning Service README](https://github.com/shapeandshare/anaconda.mlflow.tracking.prune/blob/main/README.md)\n",
    "* [Install Guide](https://github.com/shapeandshare/anaconda.mlflow.tracking.prune/blob/main/docs/source/install_guide.md)\n"
   ]
  },
  {
   "cell_type": "markdown",
   "metadata": {},
   "source": [
    "### 1. Create an instance of an AE Client"
   ]
  },
  {
   "cell_type": "code",
   "execution_count": null,
   "metadata": {},
   "outputs": [],
   "source": [
    "from anaconda.enterprise.server.sdk.client import AEClient\n",
    "from utils import get_ae_client\n",
    "\n",
    "client: AEClient = get_ae_client()"
   ]
  },
  {
   "cell_type": "markdown",
   "metadata": {},
   "source": [
    "### 2. Populate our service account secrets used for configuration (Part 1)"
   ]
  },
  {
   "cell_type": "code",
   "execution_count": null,
   "metadata": {},
   "outputs": [],
   "source": [
    "from anaconda.enterprise.server.common.sdk import demand_env_var\n",
    "\n",
    "# Define our secrets\n",
    "secret_names: list[str] = [\"MLFLOW_TRACKING_ENTITY_TTL\"]\n",
    "\n",
    "# If NOT deployed into the same account as the server then the following secrets MUST instead of the above be defined:\n",
    "# secret_names: list[str] = [\"MLFLOW_TRACKING_URI\", \"MLFLOW_REGISTRY_URI\", \"MLFLOW_TRACKING_TOKEN\", \"MLFLOW_TRACKING_ENTITY_TTL\"]\n",
    "\n",
    "# Remove possibly pre-existing configurations\n",
    "for name in secret_names:\n",
    "    try:\n",
    "        client.secret_delete(key=name)\n",
    "    except Exception as error:\n",
    "        # This is broad to allow for catching and reporting everything.\n",
    "        print(error)\n",
    "\n",
    "    # [re]create the secrets using the latest values.\n",
    "    value: str = demand_env_var(name=name)\n",
    "    print(f\"{name}:{value}\")\n",
    "    client.secret_put(key=name, value=value)"
   ]
  },
  {
   "cell_type": "markdown",
   "metadata": {},
   "source": [
    "### 3. Upload Project"
   ]
  },
  {
   "cell_type": "code",
   "execution_count": null,
   "metadata": {},
   "outputs": [],
   "source": [
    "from pathlib import Path\n",
    "from anaconda.enterprise.server.contracts import ProjectUploadResponse\n",
    "\n",
    "# Define the server template to upload\n",
    "SERVER_TEMPLATE_PATH: str = Path(\"assets/anaconda.mlflow.tracking.prune-0.7.1.tar.gz\").resolve().as_posix()\n",
    "\n",
    "# Define the project name\n",
    "SERVER_PROJECT_NAME: str = \"test.mlflow.tracking.prune\"\n",
    "\n",
    "upload_response: ProjectUploadResponse = client.project_upload(\n",
    "    project_archive_path=SERVER_TEMPLATE_PATH,\n",
    "    name=SERVER_PROJECT_NAME,\n",
    ")\n",
    "upload_response"
   ]
  },
  {
   "cell_type": "code",
   "execution_count": null,
   "metadata": {},
   "outputs": [],
   "source": [
    "project_revisions = client.project_revisions_get(project_id=upload_response.id)\n",
    "project_revisions"
   ]
  },
  {
   "cell_type": "code",
   "execution_count": null,
   "metadata": {},
   "outputs": [],
   "source": [
    "project_revisions"
   ]
  },
  {
   "cell_type": "markdown",
   "metadata": {},
   "source": [
    "### 4. Create the Pruning Schedule\n",
    "\n",
    "It is recommended to create a pruning schedule.  To do so use the ae5 tools.  The below will generate an ae5 command suitable for creating a basic schedule:"
   ]
  },
  {
   "cell_type": "code",
   "execution_count": null,
   "metadata": {},
   "outputs": [],
   "source": [
    "job_creation_command: str = f\"ae5 job create --command 'Prune' --schedule '*/10 * * * *' --name 'Scheduled {SERVER_PROJECT_NAME} Pruning' '{SERVER_PROJECT_NAME}'\"\n",
    "job_creation_command"
   ]
  }
 ],
 "metadata": {
  "kernelspec": {
   "display_name": "Python 3 (ipykernel)",
   "language": "python",
   "name": "python3"
  },
  "language_info": {
   "codemirror_mode": {
    "name": "ipython",
    "version": 3
   },
   "file_extension": ".py",
   "mimetype": "text/x-python",
   "name": "python",
   "nbconvert_exporter": "python",
   "pygments_lexer": "ipython3",
   "version": "3.10.8"
  }
 },
 "nbformat": 4,
 "nbformat_minor": 4
}
