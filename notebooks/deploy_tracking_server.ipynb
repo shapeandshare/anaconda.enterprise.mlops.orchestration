{
 "cells": [
  {
   "cell_type": "code",
   "execution_count": null,
   "metadata": {},
   "outputs": [],
   "source": [
    "from anaconda.enterprise.server.sdk.contract.dto.client_options import ClientOptions\n",
    "\n",
    "options_dict: dict = {\n",
    "    \"hostname\": \"\",\n",
    "    \"username\": \"\",\n",
    "    \"password\": \"\",\n",
    "}\n",
    "\n",
    "options: ClientOptions = ClientOptions.parse_obj(options_dict)"
   ]
  },
  {
   "cell_type": "code",
   "execution_count": null,
   "metadata": {},
   "outputs": [],
   "source": [
    "from anaconda.enterprise.server.sdk.session.factory import AESessionFactory\n",
    "from anaconda.enterprise.server.sdk.client import AEClient\n",
    "\n",
    "session_factory: AESessionFactory = AESessionFactory(options=options)"
   ]
  },
  {
   "cell_type": "code",
   "execution_count": null,
   "metadata": {},
   "outputs": [],
   "source": [
    "client: AEClient = AEClient(session_factory=session_factory)"
   ]
  },
  {
   "cell_type": "code",
   "execution_count": null,
   "metadata": {},
   "outputs": [],
   "source": [
    "from anaconda.enterprise.server.contracts import ProjectUploadResponse\n",
    "\n",
    "upload_response: ProjectUploadResponse = client.project_upload(\n",
    "    project_archive_path=\"../assets/anaconda.enterprise.mlflow.tracking.server.0.5.0.tar.gz\",\n",
    "    name=\"dev.mlflow.tracking.server\",\n",
    ")"
   ]
  },
  {
   "cell_type": "code",
   "execution_count": null,
   "metadata": {},
   "outputs": [],
   "source": [
    "upload_response"
   ]
  },
  {
   "cell_type": "code",
   "execution_count": null,
   "metadata": {},
   "outputs": [],
   "source": [
    "upload_response.id"
   ]
  },
  {
   "cell_type": "code",
   "execution_count": null,
   "metadata": {},
   "outputs": [],
   "source": [
    "project_revisions = client.project_revisions_get(project_id=upload_response.id)"
   ]
  },
  {
   "cell_type": "code",
   "execution_count": null,
   "metadata": {},
   "outputs": [],
   "source": [
    "project_revisions"
   ]
  },
  {
   "cell_type": "code",
   "execution_count": null,
   "metadata": {},
   "outputs": [],
   "source": [
    "secret_names: list[str] = [\"MLFLOW_BACKEND_STORE_URI\", \"MLFLOW_ARTIFACTS_DESTINATION\", \"MLFLOW_TRACKING_GC_TTL\"]\n",
    "for name in secret_names:\n",
    "    try:\n",
    "        client.secret_delete(key=name)\n",
    "    except:\n",
    "        pass\n",
    "\n",
    "client.secret_put(key=\"MLFLOW_BACKEND_STORE_URI\", value=\"sqlite:///data/mlflow/dev/store/mydb.sqlite\")\n",
    "client.secret_put(key=\"MLFLOW_ARTIFACTS_DESTINATION\", value=\"data/mlflow/dev/artifacts\")\n",
    "client.secret_put(key=\"MLFLOW_TRACKING_GC_TTL\", value=\"30d0h0m0s\")"
   ]
  },
  {
   "cell_type": "code",
   "execution_count": null,
   "metadata": {},
   "outputs": [],
   "source": [
    "deploy_params: dict = {\n",
    "    \"project_id\": upload_response.id,\n",
    "    \"deployment_name\": \"dev-mlflow-tracking-server\",\n",
    "    \"revision_id\": project_revisions[0].id,\n",
    "    \"command\": project_revisions[0].commands[0].id,\n",
    "    \"variables\": {\n",
    "        # \"MLFLOW_BACKEND_STORE_URI\": \"sqlite:///data/mlflow/dev/store/mydb.sqlite\",\n",
    "        # \"MLFLOW_ARTIFACTS_DESTINATION\": \"data/mlflow/dev/artifacts\",\n",
    "        # \"MLFLOW_TRACKING_GC_TTL\": \"30d0h0m0s\"\n",
    "    },\n",
    "    \"static_endpoint\": \"dev-mlflow-tracking-server\",\n",
    "}\n",
    "deploy_params"
   ]
  },
  {
   "cell_type": "code",
   "execution_count": null,
   "metadata": {},
   "outputs": [],
   "source": [
    "from anaconda.enterprise.server.contracts import ProjectDeployResponse\n",
    "\n",
    "project_deploy_response: ProjectDeployResponse = client.project_deploy(**deploy_params)"
   ]
  },
  {
   "cell_type": "code",
   "execution_count": null,
   "metadata": {},
   "outputs": [],
   "source": [
    "project_deploy_response"
   ]
  },
  {
   "cell_type": "code",
   "execution_count": null,
   "metadata": {},
   "outputs": [],
   "source": [
    "project_deploy_response.id"
   ]
  },
  {
   "cell_type": "code",
   "execution_count": null,
   "metadata": {},
   "outputs": [],
   "source": [
    "access_token: str = client.deployment_token_get(deployment_id=project_deploy_response.id)\n",
    "access_token"
   ]
  },
  {
   "cell_type": "code",
   "execution_count": null,
   "metadata": {},
   "outputs": [],
   "source": [
    "service_endpoint: str = project_deploy_response.url\n",
    "service_endpoint"
   ]
  },
  {
   "cell_type": "code",
   "execution_count": null,
   "metadata": {},
   "outputs": [],
   "source": [
    "secret_names: list[str] = [\"MLFLOW_REGISTRY_URI\", \"MLFLOW_TRACKING_TOKEN\", \"MLFLOW_TRACKING_URI\"]\n",
    "for name in secret_names:\n",
    "    try:\n",
    "        client.secret_delete(key=name)\n",
    "    except:\n",
    "        pass\n",
    "\n",
    "client.secret_put(key=\"MLFLOW_REGISTRY_URI\", value=service_endpoint)\n",
    "client.secret_put(key=\"MLFLOW_TRACKING_URI\", value=service_endpoint)\n",
    "client.secret_put(key=\"MLFLOW_TRACKING_TOKEN\", value=access_token)"
   ]
  },
  {
   "cell_type": "code",
   "execution_count": null,
   "metadata": {},
   "outputs": [],
   "source": [
    "!ae5 job create --command \"GarbageCollection\" --schedule \"*/10 * * * *\" --name \"scheduled dev.mlflow.tracking.server garbage collection\" \"dev.mlflow.tracking.server\"\n",
    "# omit if defined as ae5 secrets:\n",
    "# --variable MLFLOW_BACKEND_STORE_URI=\"sqlite:///data/mlflow/dev/store/mydb.sqlite\" --variable MLFLOW_TRACKING_GC_TTL=\"0d0h10m0s\""
   ]
  },
  {
   "cell_type": "code",
   "execution_count": null,
   "metadata": {},
   "outputs": [],
   "source": []
  }
 ],
 "metadata": {
  "kernelspec": {
   "display_name": "Python 3",
   "language": "python",
   "name": "python3"
  },
  "language_info": {
   "codemirror_mode": {
    "name": "ipython",
    "version": 2
   },
   "file_extension": ".py",
   "mimetype": "text/x-python",
   "name": "python",
   "nbconvert_exporter": "python",
   "pygments_lexer": "ipython2",
   "version": "2.7.6"
  }
 },
 "nbformat": 4,
 "nbformat_minor": 0
}
