{
 "cells": [
  {
   "cell_type": "code",
   "execution_count": null,
   "metadata": {},
   "outputs": [],
   "source": [
    "from anaconda.enterprise.server.sdk.contract.dto.client_options import ClientOptions\n",
    "\n",
    "options_dict: dict = {\n",
    "    \"hostname\": \"\",\n",
    "    \"username\": \"\",\n",
    "    \"password\": \"\",\n",
    "}\n",
    "\n",
    "options: ClientOptions = ClientOptions.parse_obj(options_dict)"
   ]
  },
  {
   "cell_type": "code",
   "execution_count": null,
   "metadata": {},
   "outputs": [],
   "source": [
    "from src.anaconda.enterprise.server.sdk.session.factory import AESessionFactory\n",
    "from src.anaconda.enterprise.server.sdk.client import AEClient\n",
    "\n",
    "session_factory: AESessionFactory = AESessionFactory(options=options)"
   ]
  },
  {
   "cell_type": "code",
   "execution_count": null,
   "metadata": {},
   "outputs": [],
   "source": [
    "client: AEClient = AEClient(session_factory=session_factory)"
   ]
  },
  {
   "cell_type": "code",
   "execution_count": null,
   "metadata": {},
   "outputs": [],
   "source": [
    "client.projects_get()"
   ]
  },
  {
   "cell_type": "code",
   "execution_count": null,
   "metadata": {},
   "outputs": [],
   "source": [
    "from anaconda.enterprise.server.contracts import ProjectUploadResponse\n",
    "\n",
    "upload_response: ProjectUploadResponse = client.project_upload(\n",
    "    project_archive_path=\"../test/fixtures/mlflow.serving.endpoint.0.2.3.tar.gz\",\n",
    "    name=\"dev.mlflow.endpoint.taxi_fare_regressor\",\n",
    ")"
   ]
  },
  {
   "cell_type": "code",
   "execution_count": null,
   "metadata": {},
   "outputs": [],
   "source": [
    "upload_response"
   ]
  },
  {
   "cell_type": "code",
   "execution_count": null,
   "metadata": {},
   "outputs": [],
   "source": [
    "upload_response.id"
   ]
  },
  {
   "cell_type": "code",
   "execution_count": null,
   "metadata": {},
   "outputs": [],
   "source": [
    "project_revisions = client.project_revisions_get(project_id=upload_response.id)"
   ]
  },
  {
   "cell_type": "code",
   "execution_count": null,
   "metadata": {},
   "outputs": [],
   "source": [
    "project_revisions"
   ]
  },
  {
   "cell_type": "code",
   "execution_count": null,
   "metadata": {},
   "outputs": [],
   "source": [
    "# Define the model and label to load from the model registry.\n",
    "model_name: str = \"taxi_fare_regressor\"\n",
    "model_stage: str = \"Staging\""
   ]
  },
  {
   "cell_type": "code",
   "execution_count": null,
   "metadata": {},
   "outputs": [],
   "source": [
    "deploy_params: dict = {\n",
    "    \"project_id\": upload_response.id,\n",
    "    \"deployment_name\": \"dev_mlflow_endpoint_taxi_fare_regressor\",\n",
    "    \"revision_id\": project_revisions[0].id,\n",
    "    \"command\": project_revisions[0].commands[1].id,\n",
    "    \"variables\": {\n",
    "        \"ANACONDA_ENTERPRISE_MLFLOW_SERVING_MODEL_NAME\": model_name,\n",
    "        \"ANACONDA_ENTERPRISE_MLFLOW_SERVING_MODEL_STAGE\": model_stage,\n",
    "    },\n",
    "    \"static_endpoint\": \"dev-mlflow-endpoint-taxi-fare-regressor\",\n",
    "}\n",
    "deploy_params"
   ]
  },
  {
   "cell_type": "code",
   "execution_count": null,
   "metadata": {},
   "outputs": [],
   "source": [
    "from anaconda.enterprise.server.contracts import ProjectDeployResponse\n",
    "\n",
    "project_deploy_response: ProjectDeployResponse = client.project_deploy(**deploy_params)"
   ]
  },
  {
   "cell_type": "code",
   "execution_count": null,
   "metadata": {},
   "outputs": [],
   "source": [
    "project_deploy_response"
   ]
  },
  {
   "cell_type": "code",
   "execution_count": null,
   "metadata": {},
   "outputs": [],
   "source": [
    "project_deploy_response.id"
   ]
  },
  {
   "cell_type": "code",
   "execution_count": null,
   "metadata": {},
   "outputs": [],
   "source": [
    "client.deployment_token_get(deployment_id=project_deploy_response.id)"
   ]
  },
  {
   "cell_type": "code",
   "execution_count": null,
   "metadata": {},
   "outputs": [],
   "source": [
    "project_deploy_response.url"
   ]
  },
  {
   "cell_type": "code",
   "execution_count": null,
   "metadata": {},
   "outputs": [],
   "source": []
  }
 ],
 "metadata": {
  "kernelspec": {
   "display_name": "Python 3",
   "language": "python",
   "name": "python3"
  },
  "language_info": {
   "codemirror_mode": {
    "name": "ipython",
    "version": 2
   },
   "file_extension": ".py",
   "mimetype": "text/x-python",
   "name": "python",
   "nbconvert_exporter": "python",
   "pygments_lexer": "ipython2",
   "version": "2.7.6"
  }
 },
 "nbformat": 4,
 "nbformat_minor": 0
}
